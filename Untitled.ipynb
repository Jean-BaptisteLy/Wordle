{
 "cells": [
  {
   "cell_type": "code",
   "execution_count": 92,
   "id": "63775425",
   "metadata": {},
   "outputs": [],
   "source": [
    "import sys\n",
    "sys.path.append('../')\n",
    "import wordle\n",
    "from wordle import Wordle\n",
    "\n",
    "%reload_ext autoreload\n",
    "%autoreload 2"
   ]
  },
  {
   "cell_type": "code",
   "execution_count": 204,
   "id": "c90906ed",
   "metadata": {},
   "outputs": [
    {
     "name": "stdout",
     "output_type": "stream",
     "text": [
      "word_to_guess : regna\n",
      "first word : roate\n",
      "spots : [2, 0, 1, 0, 1]\n",
      "[['r'], ['a', 'b', 'c', 'd', 'e', 'f', 'g', 'h', 'i', 'j', 'k', 'l', 'm', 'n', 'p', 'q', 'r', 's', 'u', 'v', 'w', 'x', 'y', 'z'], ['b', 'c', 'd', 'e', 'f', 'g', 'h', 'i', 'j', 'k', 'l', 'm', 'n', 'p', 'q', 'r', 's', 'u', 'v', 'w', 'x', 'y', 'z'], ['a', 'b', 'c', 'd', 'e', 'f', 'g', 'h', 'i', 'j', 'k', 'l', 'm', 'n', 'p', 'q', 'r', 's', 'u', 'v', 'w', 'x', 'y', 'z'], ['a', 'b', 'c', 'd', 'f', 'g', 'h', 'i', 'j', 'k', 'l', 'm', 'n', 'p', 'q', 'r', 's', 'u', 'v', 'w', 'x', 'y', 'z']]\n",
      "trial : rayed\n",
      "spots : [2, 1, 0, 1, 0]\n",
      "[['r'], ['b', 'c', 'e', 'f', 'g', 'h', 'i', 'j', 'k', 'l', 'm', 'n', 'p', 'q', 'r', 's', 'u', 'v', 'w', 'x', 'z'], ['b', 'c', 'e', 'f', 'g', 'h', 'i', 'j', 'k', 'l', 'm', 'n', 'p', 'q', 'r', 's', 'u', 'v', 'w', 'x', 'z'], ['a', 'b', 'c', 'f', 'g', 'h', 'i', 'j', 'k', 'l', 'm', 'n', 'p', 'q', 'r', 's', 'u', 'v', 'w', 'x', 'z'], ['a', 'b', 'c', 'f', 'g', 'h', 'i', 'j', 'k', 'l', 'm', 'n', 'p', 'q', 'r', 's', 'u', 'v', 'w', 'x', 'z']]\n",
      "trial : rheum\n",
      "spots : [2, 0, 1, 0, 0]\n",
      "[['r'], ['b', 'c', 'e', 'f', 'g', 'i', 'j', 'k', 'l', 'n', 'p', 'q', 'r', 's', 'v', 'w', 'x', 'z'], ['b', 'c', 'f', 'g', 'i', 'j', 'k', 'l', 'n', 'p', 'q', 'r', 's', 'v', 'w', 'x', 'z'], ['a', 'b', 'c', 'f', 'g', 'i', 'j', 'k', 'l', 'n', 'p', 'q', 'r', 's', 'v', 'w', 'x', 'z'], ['a', 'b', 'c', 'f', 'g', 'i', 'j', 'k', 'l', 'n', 'p', 'q', 'r', 's', 'v', 'w', 'x', 'z']]\n",
      "trial : ricin\n",
      "spots : [2, 0, 0, 0, 1]\n",
      "[['r'], ['b', 'e', 'f', 'g', 'j', 'k', 'l', 'n', 'p', 'q', 'r', 's', 'v', 'w', 'x', 'z'], ['b', 'f', 'g', 'j', 'k', 'l', 'n', 'p', 'q', 'r', 's', 'v', 'w', 'x', 'z'], ['a', 'b', 'f', 'g', 'j', 'k', 'l', 'n', 'p', 'q', 'r', 's', 'v', 'w', 'x', 'z'], ['a', 'b', 'f', 'g', 'j', 'k', 'l', 'p', 'q', 'r', 's', 'v', 'w', 'x', 'z']]\n",
      "trial : regna\n",
      "spots : [2, 2, 2, 2, 2]\n",
      "[['r'], ['e'], ['g'], ['n'], ['a']]\n",
      "Bingo !\n"
     ]
    }
   ],
   "source": [
    "motus = Wordle()\n",
    "motus.file_to_words('./Wordle Answers.txt')\n",
    "motus.generate_random_word_to_guess()\n",
    "#motus.generate_my_word_to_guess(\"aband\")\n",
    "#motus.generate_my_word_to_guess(\"azure\")\n",
    "print(\"word_to_guess :\",motus.word_to_guess)\n",
    "\n",
    "# first word to get first informations\n",
    "first_word = motus.generate_random_word()\n",
    "first_word = \"roate\"\n",
    "motus.update_trial(first_word)\n",
    "\n",
    "print(\"first word :\",first_word)\n",
    "\n",
    "motus.update_trial(first_word)\n",
    "motus.update_spots_Dn()\n",
    "\n",
    "while(True):\n",
    "    i = str()\n",
    "    nbVar = motus.n\n",
    "    trial,nbNodes = wordle.forward_checking(motus, i, nbVar)\n",
    "    print(\"trial :\",trial)\n",
    "    motus.update_trial(trial)\n",
    "    motus.update_spots_Dn()\n",
    "    if motus.check_victory():\n",
    "        break\n",
    "        \n",
    "print(\"Bingo !\")"
   ]
  },
  {
   "cell_type": "code",
   "execution_count": 233,
   "id": "9e53de17",
   "metadata": {},
   "outputs": [
    {
     "name": "stdout",
     "output_type": "stream",
     "text": [
      "first_word : roate\n",
      "0\n",
      "0\n",
      "0\n",
      "0\n",
      "2\n",
      "[['b', 'c', 'd', 'e', 'f', 'g', 'h', 'i', 'j', 'k', 'l', 'm', 'n', 'p', 'q', 's', 'u', 'v', 'w', 'x', 'y', 'z'], ['b', 'c', 'd', 'e', 'f', 'g', 'h', 'i', 'j', 'k', 'l', 'm', 'n', 'p', 'q', 's', 'u', 'v', 'w', 'x', 'y', 'z'], ['b', 'c', 'd', 'e', 'f', 'g', 'h', 'i', 'j', 'k', 'l', 'm', 'n', 'p', 'q', 's', 'u', 'v', 'w', 'x', 'y', 'z'], ['b', 'c', 'd', 'e', 'f', 'g', 'h', 'i', 'j', 'k', 'l', 'm', 'n', 'p', 'q', 's', 'u', 'v', 'w', 'x', 'y', 'z'], ['e']]\n",
      "index : 1\n",
      "trial : bikie\n",
      "trial confirmed : bilge\n",
      "[['c', 'd', 'e', 'f', 'h', 'i', 'j', 'k', 'm', 'n', 'p', 'q', 's', 'u', 'v', 'w', 'x', 'y', 'z'], ['i'], ['c', 'd', 'e', 'f', 'h', 'i', 'j', 'k', 'm', 'n', 'p', 'q', 's', 'u', 'v', 'w', 'x', 'y', 'z'], ['c', 'd', 'e', 'f', 'h', 'i', 'j', 'k', 'm', 'n', 'p', 'q', 's', 'u', 'v', 'w', 'x', 'y', 'z'], ['e']]\n",
      "index : 2\n",
      "trial : disme\n",
      "trial confirmed : civie\n",
      "[['d', 'e', 'f', 'h', 'j', 'k', 'm', 'n', 'p', 'q', 's', 'u', 'w', 'x', 'y', 'z'], ['i'], ['c', 'd', 'e', 'f', 'h', 'j', 'k', 'm', 'n', 'p', 'q', 's', 'u', 'w', 'x', 'y', 'z'], ['c', 'd', 'e', 'f', 'h', 'j', 'k', 'm', 'n', 'p', 'q', 's', 'u', 'w', 'x', 'y', 'z'], ['e']]\n",
      "index : 3\n",
      "trial : minke\n",
      "trial confirmed : miche\n",
      "[['d', 'e', 'f', 'j', 'k', 'n', 'p', 'q', 's', 'u', 'w', 'x', 'y', 'z'], ['i'], ['d', 'e', 'f', 'j', 'k', 'n', 'p', 'q', 's', 'u', 'w', 'x', 'y', 'z'], ['c'], ['e']]\n",
      "index : 4\n",
      "trial : yince\n",
      "trial confirmed : niece\n",
      "[['d', 'f', 'j', 'k', 'p', 'q', 's', 'u', 'w', 'x', 'y', 'z'], ['i'], ['n'], ['c'], ['e']]\n",
      "index : 5\n",
      "trial : since\n",
      "trial confirmed : yince\n",
      "[['d', 'f', 'j', 'k', 'p', 'q', 's', 'u', 'w', 'x', 'z'], ['i'], ['n'], ['c'], ['e']]\n",
      "index : 6\n",
      "trial : wince\n",
      "2\n",
      "2\n",
      "2\n",
      "2\n",
      "2\n",
      "trial confirmed : wince\n",
      "Bingo !\n",
      "6 attemps !\n"
     ]
    }
   ],
   "source": [
    "# Test 22/01/2022\n",
    "\n",
    "lingo = Wordle ()\n",
    "lingo.file_to_words('./Wordle Answers.txt')\n",
    "\n",
    "first_word = \"roate\"\n",
    "lingo.update_trial(first_word)\n",
    "print(\"first_word :\",first_word)\n",
    "spots = []\n",
    "for i in range(lingo.n):\n",
    "    spot = int(input())\n",
    "    spots.append(spot)\n",
    "lingo.update_Dn(first_word,spots)\n",
    "\n",
    "index = 0\n",
    "while True:\n",
    "    index += 1\n",
    "    print(\"index :\",index)\n",
    "    i = str()\n",
    "    nbVar = lingo.n\n",
    "    trial,nbNodes = wordle.forward_checking(lingo, i, nbVar)\n",
    "    print(\"trial :\",trial)\n",
    "    spots = []\n",
    "    if index == 1:\n",
    "        trial = \"bilge\"\n",
    "        spots = [0,2,0,0,2]\n",
    "        \n",
    "    elif index == 2:\n",
    "        trial = \"civie\"\n",
    "        spots = [1,2,0,0,2]\n",
    "    elif index == 3:\n",
    "        trial = \"miche\"\n",
    "        spots = [0,2,1,0,2]\n",
    "    elif index == 4:\n",
    "        trial = \"niece\"\n",
    "        spots = [1,2,0,2,2]\n",
    "    elif index == 5:\n",
    "        trial = \"yince\"\n",
    "        spots = [0,2,2,2,2]\n",
    "    else:\n",
    "        for i in range(lingo.n):\n",
    "            spot = int(input())\n",
    "            spots.append(spot)  \n",
    "    print(\"trial confirmed :\",trial)\n",
    "    if lingo.check_victory_from_spots(spots):\n",
    "        break\n",
    "    elif index >= 6:\n",
    "        print(\"You lost !\")\n",
    "        break\n",
    "    else:   \n",
    "        lingo.update_trial(trial)\n",
    "        lingo.update_Dn(trial,spots)\n",
    "\n",
    "print(\"Bingo !\")\n",
    "print(index,\"attemps !\")"
   ]
  },
  {
   "cell_type": "code",
   "execution_count": 89,
   "id": "d5204378",
   "metadata": {},
   "outputs": [],
   "source": [
    "motus.update_trial(first_word)\n",
    "motus.update_spots_Dn()\n",
    "print(motus.Dn)"
   ]
  },
  {
   "cell_type": "code",
   "execution_count": 108,
   "id": "80a0e74e",
   "metadata": {},
   "outputs": [
    {
     "name": "stdout",
     "output_type": "stream",
     "text": [
      "1\n"
     ]
    },
    {
     "data": {
      "text/plain": [
       "'a'"
      ]
     },
     "execution_count": 108,
     "metadata": {},
     "output_type": "execute_result"
    }
   ],
   "source": [
    "toto = str()\n",
    "toto += 'a'\n",
    "print(len(toto))\n",
    "toto"
   ]
  },
  {
   "cell_type": "code",
   "execution_count": 114,
   "id": "024647b9",
   "metadata": {},
   "outputs": [
    {
     "name": "stdout",
     "output_type": "stream",
     "text": [
      "ok\n"
     ]
    }
   ],
   "source": [
    "if \"cigar\" in motus.words:\n",
    "    print(\"ok\")"
   ]
  },
  {
   "cell_type": "code",
   "execution_count": 184,
   "id": "a3362f78",
   "metadata": {},
   "outputs": [
    {
     "data": {
      "text/plain": [
       "True"
      ]
     },
     "execution_count": 184,
     "metadata": {},
     "output_type": "execute_result"
    }
   ],
   "source": [
    "node = \"zoism\"\n",
    "motus.check_word_exists(node)"
   ]
  },
  {
   "cell_type": "code",
   "execution_count": 189,
   "id": "7b65126c",
   "metadata": {},
   "outputs": [
    {
     "data": {
      "text/plain": [
       "True"
      ]
     },
     "execution_count": 189,
     "metadata": {},
     "output_type": "execute_result"
    }
   ],
   "source": [
    "node = \"aband\"\n",
    "motus.check_word_exists(node)"
   ]
  },
  {
   "cell_type": "code",
   "execution_count": 192,
   "id": "be323269",
   "metadata": {},
   "outputs": [
    {
     "data": {
      "text/plain": [
       "True"
      ]
     },
     "execution_count": 192,
     "metadata": {},
     "output_type": "execute_result"
    }
   ],
   "source": [
    "node = \"azure\"\n",
    "motus.check_word_exists(node)"
   ]
  },
  {
   "cell_type": "code",
   "execution_count": 202,
   "id": "217f3eec",
   "metadata": {},
   "outputs": [
    {
     "data": {
      "text/plain": [
       "True"
      ]
     },
     "execution_count": 202,
     "metadata": {},
     "output_type": "execute_result"
    }
   ],
   "source": [
    "node = \"roate\"\n",
    "motus.check_word_exists(node)"
   ]
  },
  {
   "cell_type": "code",
   "execution_count": null,
   "id": "a321d310",
   "metadata": {},
   "outputs": [],
   "source": [
    "[1,0,1,0,2]"
   ]
  },
  {
   "cell_type": "code",
   "execution_count": 212,
   "id": "ca9df1a3",
   "metadata": {},
   "outputs": [
    {
     "name": "stdout",
     "output_type": "stream",
     "text": [
      "[2]\n",
      "ok\n"
     ]
    }
   ],
   "source": [
    "mylist = [2]\n",
    "mylist = list(set(mylist))\n",
    "print(mylist)\n",
    "if mylist == [2]:\n",
    "    print(\"ok\")"
   ]
  },
  {
   "cell_type": "code",
   "execution_count": null,
   "id": "5f4ccdf3",
   "metadata": {},
   "outputs": [],
   "source": []
  }
 ],
 "metadata": {
  "kernelspec": {
   "display_name": "Python 3",
   "language": "python",
   "name": "python3"
  },
  "language_info": {
   "codemirror_mode": {
    "name": "ipython",
    "version": 3
   },
   "file_extension": ".py",
   "mimetype": "text/x-python",
   "name": "python",
   "nbconvert_exporter": "python",
   "pygments_lexer": "ipython3",
   "version": "3.7.9"
  }
 },
 "nbformat": 4,
 "nbformat_minor": 5
}
